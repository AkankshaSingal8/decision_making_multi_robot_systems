{
  "nbformat": 4,
  "nbformat_minor": 0,
  "metadata": {
    "colab": {
      "provenance": []
    },
    "kernelspec": {
      "name": "python3",
      "display_name": "Python 3"
    },
    "language_info": {
      "name": "python"
    }
  },
  "cells": [
    {
      "cell_type": "code",
      "source": [
        "!pip install z3-solver"
      ],
      "metadata": {
        "colab": {
          "base_uri": "https://localhost:8080/"
        },
        "id": "Uf0b9w3yT2Ob",
        "outputId": "30ad9c47-1f68-4519-f9da-d35f02b6a0fc"
      },
      "execution_count": 35,
      "outputs": [
        {
          "output_type": "stream",
          "name": "stdout",
          "text": [
            "Requirement already satisfied: z3-solver in /usr/local/lib/python3.11/dist-packages (4.14.1.0)\n"
          ]
        }
      ]
    },
    {
      "cell_type": "code",
      "source": [
        "!pip install nashpy"
      ],
      "metadata": {
        "colab": {
          "base_uri": "https://localhost:8080/"
        },
        "id": "6SW9DKT9E8Lj",
        "outputId": "f2c9ba99-5eeb-42bf-c7e8-3cd205702398"
      },
      "execution_count": 36,
      "outputs": [
        {
          "output_type": "stream",
          "name": "stdout",
          "text": [
            "Requirement already satisfied: nashpy in /usr/local/lib/python3.11/dist-packages (0.0.41)\n",
            "Requirement already satisfied: numpy>=1.21.0 in /usr/local/lib/python3.11/dist-packages (from nashpy) (2.0.2)\n",
            "Requirement already satisfied: scipy>=0.19.0 in /usr/local/lib/python3.11/dist-packages (from nashpy) (1.14.1)\n",
            "Requirement already satisfied: networkx>=3.0.0 in /usr/local/lib/python3.11/dist-packages (from nashpy) (3.4.2)\n",
            "Requirement already satisfied: deprecated>=1.2.14 in /usr/local/lib/python3.11/dist-packages (from nashpy) (1.2.18)\n",
            "Requirement already satisfied: wrapt<2,>=1.10 in /usr/local/lib/python3.11/dist-packages (from deprecated>=1.2.14->nashpy) (1.17.2)\n"
          ]
        }
      ]
    },
    {
      "cell_type": "code",
      "source": [
        "from itertools import product\n",
        "import itertools\n",
        "import numpy as np\n",
        "from z3 import *\n",
        "import nashpy"
      ],
      "metadata": {
        "id": "6F1-I1OMgW8_"
      },
      "execution_count": 37,
      "outputs": []
    },
    {
      "cell_type": "code",
      "source": [
        "def is_best_response(player, action, full_profile, players, action_sets, payoff_matrices):\n",
        "    current_profile = list(full_profile)\n",
        "    current_profile[player] = action\n",
        "    current_profile = tuple(current_profile)\n",
        "\n",
        "    current_payoff = payoff_matrices[player][current_profile]\n",
        "\n",
        "    for alt_action in action_sets[player]:\n",
        "        if alt_action == action:\n",
        "            continue\n",
        "        alt_profile = list(full_profile)\n",
        "        alt_profile[player] = alt_action\n",
        "        alt_profile = tuple(alt_profile)\n",
        "        if payoff_matrices[player][alt_profile] > current_payoff:\n",
        "            return False\n",
        "    return True\n",
        "\n",
        "def find_pure_nash_equilibria(players, action_sets, payoff_matrices):\n",
        "    equilibria = []\n",
        "\n",
        "    all_profiles = product(*[action_sets[i] for i in players])\n",
        "\n",
        "    for profile in all_profiles:\n",
        "        if all(is_best_response(i, profile[i], profile, players, action_sets, payoff_matrices) for i in players):\n",
        "            equilibria.append(profile)\n",
        "\n",
        "    return equilibria\n"
      ],
      "metadata": {
        "id": "IaF90ZlD4C7K"
      },
      "execution_count": 38,
      "outputs": []
    },
    {
      "cell_type": "code",
      "source": [
        "def find_mixed_strategy_nash(players, action_sets, payoff_matrices):\n",
        "    s = Solver()\n",
        "\n",
        "    strategy_vars = {\n",
        "        i: [Real(f\"p_{i}_{a}\") for a in range(len(action_sets[i]))]\n",
        "        for i in players\n",
        "    }\n",
        "\n",
        "    for i in players:\n",
        "        for p in strategy_vars[i]:\n",
        "            s.add(p >= 0, p <= 1)\n",
        "        s.add(Sum(strategy_vars[i]) == 1)\n",
        "\n",
        "    index_profiles = list(product(*[range(len(action_sets[i])) for i in players]))\n",
        "\n",
        "    for i in players:\n",
        "        for a_i in range(len(action_sets[i])):\n",
        "            expected_current = RealVal(0)\n",
        "            expected_actual = RealVal(0)\n",
        "\n",
        "            for profile in index_profiles:\n",
        "                prob_expr = RealVal(1)\n",
        "                for j in players:\n",
        "                    prob_expr *= strategy_vars[j][profile[j]]\n",
        "\n",
        "                profile_named_actual = tuple(action_sets[j][profile[j]] for j in players)\n",
        "\n",
        "                profile_current = list(profile)\n",
        "                profile_current[i] = a_i\n",
        "                profile_named_current = tuple(action_sets[j][profile_current[j]] for j in players)\n",
        "\n",
        "                expected_current += prob_expr * payoff_matrices[i][profile_named_current]\n",
        "                expected_actual += prob_expr * payoff_matrices[i][profile_named_actual]\n",
        "\n",
        "            s.add(expected_current >= expected_actual)\n",
        "\n",
        "    if s.check() == sat:\n",
        "        m = s.model()\n",
        "        print(\"Mixed Strategy Nash Equilibrium:\")\n",
        "        for i in players:\n",
        "            print(f\"Player {i}:\")\n",
        "            for idx, var in enumerate(strategy_vars[i]):\n",
        "                val = m.evaluate(var, model_completion=True)\n",
        "                prob = float(val.numerator_as_long()) / float(val.denominator_as_long())\n",
        "                action = action_sets[i][idx]\n",
        "                print(f\"  {action}: {prob:.3f}\")\n",
        "    else:\n",
        "        print(\"No Nash Equilibrium found.\")"
      ],
      "metadata": {
        "id": "7oigAKNb62QK"
      },
      "execution_count": 39,
      "outputs": []
    },
    {
      "cell_type": "code",
      "source": [
        "# # example 1\n",
        "# players = [0, 1, 2]\n",
        "\n",
        "# action_sets = {\n",
        "#     0: [0, 1, 2],\n",
        "#     1: [0, 1, 2],\n",
        "#     2: [0, 1, 2]\n",
        "# }\n",
        "\n",
        "# payoff_matrices = {\n",
        "#     0: {\n",
        "#         (0, 0, 0): 3, (0, 0, 1): 3, (0, 0, 2): 3,\n",
        "#         (0, 1, 0): 3, (0, 1, 1): 3, (0, 1, 2): 3,\n",
        "#         (0, 2, 0): 3, (0, 2, 1): 3, (0, 2, 2): 3,\n",
        "#         (1, 0, 0): 1, (1, 0, 1): 1, (1, 0, 2): 1,\n",
        "#         (1, 1, 0): 1, (1, 1, 1): 1, (1, 1, 2): 1,\n",
        "#         (1, 2, 0): 1, (1, 2, 1): 1, (1, 2, 2): 1,\n",
        "#         (2, 0, 0): 0, (2, 0, 1): 0, (2, 0, 2): 0,\n",
        "#         (2, 1, 0): 0, (2, 1, 1): 0, (2, 1, 2): 0,\n",
        "#         (2, 2, 0): 0, (2, 2, 1): 0, (2, 2, 2): 0,\n",
        "#     },\n",
        "#     1: {\n",
        "#         (0, 0, 0): 2, (0, 0, 1): 2, (0, 0, 2): 2,\n",
        "#         (0, 1, 0): 1, (0, 1, 1): 1, (0, 1, 2): 1,\n",
        "#         (0, 2, 0): 0, (0, 2, 1): 0, (0, 2, 2): 0,\n",
        "#         (1, 0, 0): 2, (1, 0, 1): 2, (1, 0, 2): 2,\n",
        "#         (1, 1, 0): 1, (1, 1, 1): 1, (1, 1, 2): 1,\n",
        "#         (1, 2, 0): 0, (1, 2, 1): 0, (1, 2, 2): 0,\n",
        "#         (2, 0, 0): 2, (2, 0, 1): 2, (2, 0, 2): 2,\n",
        "#         (2, 1, 0): 1, (2, 1, 1): 1, (2, 1, 2): 1,\n",
        "#         (2, 2, 0): 0, (2, 2, 1): 0, (2, 2, 2): 0,\n",
        "#     },\n",
        "#     2: {\n",
        "#         (0, 0, 0): 1, (0, 0, 1): 0, (0, 0, 2): 2,\n",
        "#         (0, 1, 0): 1, (0, 1, 1): 0, (0, 1, 2): 2,\n",
        "#         (0, 2, 0): 1, (0, 2, 1): 0, (0, 2, 2): 2,\n",
        "#         (1, 0, 0): 1, (1, 0, 1): 0, (1, 0, 2): 2,\n",
        "#         (1, 1, 0): 1, (1, 1, 1): 0, (1, 1, 2): 2,\n",
        "#         (1, 2, 0): 1, (1, 2, 1): 0, (1, 2, 2): 2,\n",
        "#         (2, 0, 0): 1, (2, 0, 1): 0, (2, 0, 2): 2,\n",
        "#         (2, 1, 0): 1, (2, 1, 1): 0, (2, 1, 2): 2,\n",
        "#         (2, 2, 0): 1, (2, 2, 1): 0, (2, 2, 2): 2,\n",
        "#     }\n",
        "# }"
      ],
      "metadata": {
        "id": "MAz9DZgS4IXt"
      },
      "execution_count": 40,
      "outputs": []
    },
    {
      "cell_type": "code",
      "source": [
        "#example 6.2 from book\n",
        "players = [0, 1]\n",
        "\n",
        "action_sets = {\n",
        "    0: ['NC', 'C'],\n",
        "    1: ['NC', 'C']\n",
        "}\n",
        "\n",
        "payoff_matrices = {\n",
        "    0: {\n",
        "        ('NC', 'NC'): -2,\n",
        "        ('NC', 'C'): -10,\n",
        "        ('C', 'NC'): -1,\n",
        "        ('C', 'C'): -5,\n",
        "    },\n",
        "    1: {\n",
        "        ('NC', 'NC'): -2,\n",
        "        ('NC', 'C'): -1,\n",
        "        ('C', 'NC'): -10,\n",
        "        ('C', 'C'): -5,\n",
        "    }\n",
        "}"
      ],
      "metadata": {
        "id": "JYrVV0OK4KJg"
      },
      "execution_count": 47,
      "outputs": []
    },
    {
      "cell_type": "code",
      "source": [
        "# # example 6.6 from book\n",
        "# players = [0, 1]\n",
        "\n",
        "# action_sets = {\n",
        "#     0: ['A', 'B'],  # Player 1's actions\n",
        "#     1: ['A', 'B']   # Player 2's actions\n",
        "# }\n",
        "\n",
        "# payoff_matrices = {\n",
        "#     0: {  # Player 1's payoffs\n",
        "#         ('A', 'A'): -1,\n",
        "#         ('A', 'B'): -0.5,\n",
        "#         ('B', 'A'): -1,\n",
        "#         ('B', 'B'): -1\n",
        "#     },\n",
        "#     1: {  # Player 2's payoffs\n",
        "#         ('A', 'A'): -1,\n",
        "#         ('A', 'B'): -1,\n",
        "#         ('B', 'A'): -0.5,\n",
        "#         ('B', 'B'): -1\n",
        "#     }\n",
        "# }\n"
      ],
      "metadata": {
        "id": "1SQAw8UO4MLI"
      },
      "execution_count": 50,
      "outputs": []
    },
    {
      "cell_type": "code",
      "source": [
        "# #example 6.9 from book\n",
        "# players = [0, 1]\n",
        "\n",
        "# action_sets = {\n",
        "#     0: ['Rock', 'Paper', 'Scissors'],\n",
        "#     1: ['Rock', 'Paper', 'Scissors']\n",
        "# }\n",
        "\n",
        "# payoff_matrices = {\n",
        "#     0: {  # Player 1's payoffs\n",
        "#         ('Rock', 'Rock'): 0,     ('Rock', 'Paper'): -1,  ('Rock', 'Scissors'): 1,\n",
        "#         ('Paper', 'Rock'): 1,    ('Paper', 'Paper'): 0,  ('Paper', 'Scissors'): -1,\n",
        "#         ('Scissors', 'Rock'): -1,('Scissors', 'Paper'): 1, ('Scissors', 'Scissors'): 0\n",
        "#     },\n",
        "#     1: {  # Player 2's payoffs\n",
        "#         ('Rock', 'Rock'): 0,     ('Rock', 'Paper'): 1,   ('Rock', 'Scissors'): -1,\n",
        "#         ('Paper', 'Rock'): -1,   ('Paper', 'Paper'): 0,  ('Paper', 'Scissors'): 1,\n",
        "#         ('Scissors', 'Rock'): 1, ('Scissors', 'Paper'): -1, ('Scissors', 'Scissors'): 0\n",
        "#     }\n",
        "# }\n"
      ],
      "metadata": {
        "id": "a8eMZql74OOC"
      },
      "execution_count": 52,
      "outputs": []
    },
    {
      "cell_type": "code",
      "source": [
        "# #video example\n",
        "\n",
        "# players = [0, 1, 2]  # 0: Gus, 1: Yelnic, 2: Tolbert\n",
        "\n",
        "# action_sets = {\n",
        "#     0: ['Goes to bar', 'Stays home'],  # Gus\n",
        "#     1: ['go to bar', 'stays home'],    # Yelnic\n",
        "#     2: ['Goes to bar', 'Stays home']   # Tolbert\n",
        "# }\n",
        "\n",
        "# payoff_matrices = {\n",
        "#     0: {  # Gus\n",
        "#         ('Goes to bar', 'go to bar', 'Goes to bar'): -1,\n",
        "#         ('Goes to bar', 'stays home', 'Goes to bar'): 2,\n",
        "#         ('Goes to bar', 'go to bar', 'Stays home'): 2,\n",
        "#         ('Goes to bar', 'stays home', 'Stays home'): 0,\n",
        "#         ('Stays home', 'go to bar', 'Goes to bar'): 1,\n",
        "#         ('Stays home', 'stays home', 'Goes to bar'): 1,\n",
        "#         ('Stays home', 'go to bar', 'Stays home'): 1,\n",
        "#         ('Stays home', 'stays home', 'Stays home'): 1\n",
        "#     },\n",
        "#     1: {  # Yelnic\n",
        "#         ('Goes to bar', 'go to bar', 'Goes to bar'): -1,\n",
        "#         ('Goes to bar', 'stays home', 'Goes to bar'): 1,\n",
        "#         ('Goes to bar', 'go to bar', 'Stays home'): 2,\n",
        "#         ('Goes to bar', 'stays home', 'Stays home'): 1,\n",
        "#         ('Stays home', 'go to bar', 'Goes to bar'): 2,\n",
        "#         ('Stays home', 'stays home', 'Goes to bar'): 1,\n",
        "#         ('Stays home', 'go to bar', 'Stays home'): 0,\n",
        "#         ('Stays home', 'stays home', 'Stays home'): 1\n",
        "#     },\n",
        "#     2: {  # Tolbert\n",
        "#         ('Goes to bar', 'go to bar', 'Goes to bar'): -1,\n",
        "#         ('Goes to bar', 'stays home', 'Goes to bar'): 2,\n",
        "#         ('Goes to bar', 'go to bar', 'Stays home'): 1,\n",
        "#         ('Goes to bar', 'stays home', 'Stays home'): 1,\n",
        "#         ('Stays home', 'go to bar', 'Goes to bar'): 2,\n",
        "#         ('Stays home', 'stays home', 'Goes to bar'): 0,\n",
        "#         ('Stays home', 'go to bar', 'Stays home'): 1,\n",
        "#         ('Stays home', 'stays home', 'Stays home'): 1\n",
        "#     }\n",
        "# }\n"
      ],
      "metadata": {
        "id": "5Phvu7psIjH4"
      },
      "execution_count": 44,
      "outputs": []
    },
    {
      "cell_type": "code",
      "source": [
        "def get_input():\n",
        "    num_players = int(input(\"Enter number of players: \"))\n",
        "    players = [i for i in range(num_players)]\n",
        "    action_sets = {}\n",
        "    for p in range(num_players):\n",
        "        actions = input(f\"Enter space-separated action for player {p} : \").split()\n",
        "        action_sets[p] = [a for a in actions]\n",
        "\n",
        "    all_profiles = list(product(*[action_sets[i] for i in range(num_players)]))\n",
        "    payoff_matrices = {p: {} for p in range(num_players)}\n",
        "\n",
        "    print(\"The index represents players i choice eg (C, NC) is player 0, player 1\")\n",
        "    for player in range(num_players):\n",
        "        print(f\"For Player {player}\")\n",
        "        for profile in all_profiles:\n",
        "            input_utility = int(input(f\"Profile {profile}: \"))\n",
        "            # print(input_utility)\n",
        "            payoff_matrices[player][profile] = input_utility\n",
        "\n",
        "    return players, action_sets, payoff_matrices\n",
        "\n",
        "# players, action_sets, payoff_matrices = get_input()\n",
        "# print(players, action_sets, payoff_matrices)"
      ],
      "metadata": {
        "id": "m4ppnmFJ4QCh"
      },
      "execution_count": 53,
      "outputs": []
    },
    {
      "cell_type": "code",
      "source": [
        "# part a\n",
        "nash_equilibria = find_pure_nash_equilibria(players, action_sets, payoff_matrices)\n",
        "if nash_equilibria:\n",
        "    print(\"Pure Strategy Nash Equilibria:\")\n",
        "    for eq in nash_equilibria:\n",
        "        print(eq)\n",
        "else:\n",
        "    print(\"No Pure Strategy Nash Equilibrium exists.\")\n",
        "\n",
        "# PART B\n",
        "find_mixed_strategy_nash(players, action_sets, payoff_matrices)"
      ],
      "metadata": {
        "colab": {
          "base_uri": "https://localhost:8080/"
        },
        "id": "CaOA1Xh34GRH",
        "outputId": "dd34218c-a716-4aba-9325-071312b5ac7f"
      },
      "execution_count": 54,
      "outputs": [
        {
          "output_type": "stream",
          "name": "stdout",
          "text": [
            "No Pure Strategy Nash Equilibrium exists.\n",
            "Mixed Strategy Nash Equilibrium:\n",
            "Player 0:\n",
            "  Rock: 0.333\n",
            "  Paper: 0.333\n",
            "  Scissors: 0.333\n",
            "Player 1:\n",
            "  Rock: 0.333\n",
            "  Paper: 0.333\n",
            "  Scissors: 0.333\n"
          ]
        }
      ]
    }
  ]
}